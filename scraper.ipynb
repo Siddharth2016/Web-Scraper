{
 "cells": [
  {
   "cell_type": "markdown",
   "metadata": {},
   "source": [
    "# WEB SCRAPER USING PYTHON 3\n",
    "\n",
    "#### WEB SCRAPING\n",
    "It is defined as extraction of information from web by using patterns visible on that web (page/site). Here patterns corresponds to the markdown similarity of some text we want to scrap (extract).\n",
    "\n",
    "This file contains 2 parts, where part 1 scarp data of Trump lies and part 2 scarps data of Sachin's centuries.\n",
    "\n",
    "### PART 1\n",
    "\n",
    "This file implements extraction of trump lies from (https://www.nytimes.com/interactive/2017/06/23/opinion/trumps-lies.html)."
   ]
  },
  {
   "cell_type": "code",
   "execution_count": 78,
   "metadata": {},
   "outputs": [
    {
     "name": "stdout",
     "output_type": "stream",
     "text": [
      "<!DOCTYPE html>\n",
      "<!--[if (gt IE 9)|!(IE)]> <!--><html lang=\"en\" class=\"no-js page-interactive section-opinion page-theme-standard tone-opinion page-interactive-default limit-small layout-xlarge app-interactive\" itemid=\"https://www.nytimes.com/interactive/2017/06/23/opinion/trumps-lies.html\" itemtype=\"http://schema.org/NewsArticle\" itemscope xmlns:og=\"http://opengraphprotocol.org/schema/\"><!--<![endif]-->\n",
      "<!--[if IE 9]> <html lang=\"en\" class=\"no-js ie9 lt-ie10 page-interactive section-opinion page-theme-standard tone-opinion page-interactive-default limit-small layout-xlarge app-interactive\" xmlns:og=\"http://opengraphprotocol.org/schema/\"> <![endif]-->\n",
      "<!--[if IE 8]> <html lang=\"en\" class=\"no-js ie8 lt-ie10 lt-ie9 page-interactive section-opinion page-theme-standard tone-opinion page-interactive-default limit-small layout-xlarge app-interactive\" xmlns:og=\"http://opengraphprotocol.org/schema/\"> <![endif]-->\n",
      "<!--[if (lt IE 8)]> <html lang=\"en\" class=\"no-js lt-ie10 lt-ie9 lt-ie8 page-intera\n"
     ]
    }
   ],
   "source": [
    "# First we will import requests library to read the web page/site (if not available type \"pip3 install requests\" in terminal)\n",
    "import requests\n",
    "page = requests.get(\"https://www.nytimes.com/interactive/2017/06/23/opinion/trumps-lies.html\") # page is a response\n",
    "print(page.text[0:1000])"
   ]
  },
  {
   "cell_type": "code",
   "execution_count": 79,
   "metadata": {},
   "outputs": [],
   "source": [
    "# Importing BeautifulSoup from bs4\n",
    "from bs4 import BeautifulSoup\n",
    "htmlSoup = BeautifulSoup(page.text, \"html.parser\")\n",
    "# htmlSoup"
   ]
  },
  {
   "cell_type": "code",
   "execution_count": 80,
   "metadata": {},
   "outputs": [
    {
     "name": "stdout",
     "output_type": "stream",
     "text": [
      "<span class=\"short-desc\"><strong>Nov. 11 </strong>“I'd rather have him  – you know, work with him on the Ukraine than standing and arguing about whether or not  – because that whole thing was set up by the Democrats.” <span class=\"short-truth\"><a href=\"https://www.nytimes.com/interactive/2017/12/10/us/politics/trump-and-russia.html\" target=\"_blank\">(There is no evidence that Democrats \"set up\" Russian interference in the election.)</a></span></span>\n"
     ]
    }
   ],
   "source": [
    "results = htmlSoup.find_all('span', attrs = {'class' : 'short-desc'})\n",
    "len(results)\n",
    "print(results[-1]) # Checking the last tag, if scarped correct"
   ]
  },
  {
   "cell_type": "code",
   "execution_count": 81,
   "metadata": {},
   "outputs": [
    {
     "name": "stdout",
     "output_type": "stream",
     "text": [
      "('Nov. 11, 2017', \"I'd rather have him  – you know, work with him on the Ukraine than standing and arguing about whether or not  – because that whole thing was set up by the Democrats.\", 'There is no evidence that Democrats \"set up\" Russian interference in the election.', 'https://www.nytimes.com/interactive/2017/12/10/us/politics/trump-and-russia.html')\n"
     ]
    }
   ],
   "source": [
    "records = []\n",
    "for result in results:\n",
    "    date = result.find('strong').text[0:-1]+', 2017'\n",
    "    lie = result.contents[1][1:-2]\n",
    "    urlText = result.find('a').text[1:-1]\n",
    "    urlLink = result.find('a')['href']\n",
    "    records.append((date, lie, urlText, urlLink))\n",
    "\n",
    "# print(records)\n",
    "print(records[-1])"
   ]
  },
  {
   "cell_type": "code",
   "execution_count": 82,
   "metadata": {},
   "outputs": [],
   "source": [
    "import pandas as pd\n",
    "df = pd.DataFrame(records, columns = ['Date', 'Lie', 'Reason', 'URL'])\n",
    "df['Date'] = pd.to_datetime(df['Date'])"
   ]
  },
  {
   "cell_type": "code",
   "execution_count": 83,
   "metadata": {},
   "outputs": [],
   "source": [
    "df.to_csv(\"trump_lies.csv\", index = False)"
   ]
  },
  {
   "cell_type": "markdown",
   "metadata": {},
   "source": [
    "### PART 2\n",
    "This file implements extraction of sachin centuries from (http://www.fastcricket.com/entry/1270/)."
   ]
  },
  {
   "cell_type": "code",
   "execution_count": 84,
   "metadata": {},
   "outputs": [],
   "source": [
    "cricketPage = requests.get(\"http://www.fastcricket.com/entry/1270/\")\n",
    "# print(cricketPage.text)"
   ]
  },
  {
   "cell_type": "code",
   "execution_count": 85,
   "metadata": {},
   "outputs": [],
   "source": [
    "sachinSoup = BeautifulSoup(cricketPage.text, 'html.parser')\n",
    "# sachinSoup"
   ]
  },
  {
   "cell_type": "code",
   "execution_count": 86,
   "metadata": {},
   "outputs": [
    {
     "name": "stdout",
     "output_type": "stream",
     "text": [
      "51\n",
      "<tr>\n",
      "<td><b>100</b></td>\n",
      "<td style=\"text-align:center\">113</td>\n",
      "<td style=\"text-align:center\">10</td>\n",
      "<td style=\"text-align:center\">1</td>\n",
      "<td style=\"text-align:center\">2</td>\n",
      "<td>Pakistan</td>\n",
      "<td>Peshawar</td>\n",
      "<td>6 Feb 2006</td>\n",
      "</tr>\n"
     ]
    }
   ],
   "source": [
    "results = sachinSoup.find_all('tr')\n",
    "print(len(results))\n",
    "print(results[-1])\n",
    "# results"
   ]
  },
  {
   "cell_type": "code",
   "execution_count": 87,
   "metadata": {},
   "outputs": [
    {
     "data": {
      "text/plain": [
       "['\\n',\n",
       " <td class=\"bg\"><b>200*</b></td>,\n",
       " '\\n',\n",
       " <td class=\"bg\" style=\"text-align:center\">147</td>,\n",
       " '\\n',\n",
       " <td class=\"bg\" style=\"text-align:center\">25</td>,\n",
       " '\\n',\n",
       " <td class=\"bg\" style=\"text-align:center\">3</td>,\n",
       " '\\n',\n",
       " <td class=\"bg\" style=\"text-align:center\">2</td>,\n",
       " '\\n',\n",
       " <td class=\"bg\">South Africa</td>,\n",
       " '\\n',\n",
       " <td class=\"bg\">Gwalior</td>,\n",
       " '\\n',\n",
       " <td class=\"bg\"><a href=\"http://www.fastcricket.com/entry/1853/\">24 Feb 2010</a></td>,\n",
       " '\\n']"
      ]
     },
     "execution_count": 87,
     "metadata": {},
     "output_type": "execute_result"
    }
   ],
   "source": [
    "results[2].contents"
   ]
  },
  {
   "cell_type": "markdown",
   "metadata": {},
   "source": [
    "##### From above block, it can be inferred that even positions (odd indices) have useful information."
   ]
  },
  {
   "cell_type": "code",
   "execution_count": 88,
   "metadata": {},
   "outputs": [
    {
     "name": "stdout",
     "output_type": "stream",
     "text": [
      "49 Total One Day International Centuries\n"
     ]
    }
   ],
   "source": [
    "records = []\n",
    "\n",
    "for result in results[2:]:\n",
    "    result = result.contents\n",
    "    runs = result[1].text\n",
    "    balls = result[3].text\n",
    "    fours = result[5].text\n",
    "    sixes = result[7].text\n",
    "    position = result[9].text\n",
    "    against = result[11].text\n",
    "    venue = result[13].text\n",
    "    records.append((runs, balls, fours, sixes, position, against, venue))\n",
    "\n",
    "print(len(records), \"Total One Day International Centuries\")"
   ]
  },
  {
   "cell_type": "code",
   "execution_count": 89,
   "metadata": {},
   "outputs": [
    {
     "data": {
      "text/html": [
       "<div>\n",
       "<style scoped>\n",
       "    .dataframe tbody tr th:only-of-type {\n",
       "        vertical-align: middle;\n",
       "    }\n",
       "\n",
       "    .dataframe tbody tr th {\n",
       "        vertical-align: top;\n",
       "    }\n",
       "\n",
       "    .dataframe thead th {\n",
       "        text-align: right;\n",
       "    }\n",
       "</style>\n",
       "<table border=\"1\" class=\"dataframe\">\n",
       "  <thead>\n",
       "    <tr style=\"text-align: right;\">\n",
       "      <th></th>\n",
       "      <th>Runs</th>\n",
       "      <th>Balls</th>\n",
       "      <th>4s</th>\n",
       "      <th>6s</th>\n",
       "      <th>Position</th>\n",
       "      <th>Against</th>\n",
       "      <th>Venue</th>\n",
       "    </tr>\n",
       "  </thead>\n",
       "  <tbody>\n",
       "    <tr>\n",
       "      <th>0</th>\n",
       "      <td>200*</td>\n",
       "      <td>147</td>\n",
       "      <td>25</td>\n",
       "      <td>3</td>\n",
       "      <td>2</td>\n",
       "      <td>South Africa</td>\n",
       "      <td>Gwalior</td>\n",
       "    </tr>\n",
       "    <tr>\n",
       "      <th>1</th>\n",
       "      <td>186*</td>\n",
       "      <td>150</td>\n",
       "      <td>20</td>\n",
       "      <td>3</td>\n",
       "      <td>2</td>\n",
       "      <td>New Zealand</td>\n",
       "      <td>Hyd'bad</td>\n",
       "    </tr>\n",
       "    <tr>\n",
       "      <th>2</th>\n",
       "      <td>175</td>\n",
       "      <td>141</td>\n",
       "      <td>19</td>\n",
       "      <td>6</td>\n",
       "      <td>2</td>\n",
       "      <td>Australia</td>\n",
       "      <td>Hyd'bad</td>\n",
       "    </tr>\n",
       "    <tr>\n",
       "      <th>3</th>\n",
       "      <td>163*</td>\n",
       "      <td>133</td>\n",
       "      <td>16</td>\n",
       "      <td>5</td>\n",
       "      <td>2</td>\n",
       "      <td>New Zealand</td>\n",
       "      <td>C'church</td>\n",
       "    </tr>\n",
       "    <tr>\n",
       "      <th>4</th>\n",
       "      <td>152</td>\n",
       "      <td>151</td>\n",
       "      <td>18</td>\n",
       "      <td>0</td>\n",
       "      <td>2</td>\n",
       "      <td>Namibia</td>\n",
       "      <td>P'sburg</td>\n",
       "    </tr>\n",
       "  </tbody>\n",
       "</table>\n",
       "</div>"
      ],
      "text/plain": [
       "   Runs Balls  4s 6s Position       Against     Venue\n",
       "0  200*   147  25  3        2  South Africa   Gwalior\n",
       "1  186*   150  20  3        2   New Zealand   Hyd'bad\n",
       "2   175   141  19  6        2     Australia   Hyd'bad\n",
       "3  163*   133  16  5        2   New Zealand  C'church\n",
       "4   152   151  18  0        2       Namibia   P'sburg"
      ]
     },
     "execution_count": 89,
     "metadata": {},
     "output_type": "execute_result"
    }
   ],
   "source": [
    "df1 = pd.DataFrame(records, columns = ['Runs', 'Balls', '4s', '6s', 'Position', 'Against', 'Venue'])\n",
    "df1.head()\n"
   ]
  },
  {
   "cell_type": "code",
   "execution_count": 90,
   "metadata": {},
   "outputs": [],
   "source": [
    "df1.to_csv(\"sachine_centuries.csv\", index = False)"
   ]
  },
  {
   "cell_type": "code",
   "execution_count": null,
   "metadata": {},
   "outputs": [],
   "source": []
  }
 ],
 "metadata": {
  "kernelspec": {
   "display_name": "Python 3",
   "language": "python",
   "name": "python3"
  },
  "language_info": {
   "codemirror_mode": {
    "name": "ipython",
    "version": 3
   },
   "file_extension": ".py",
   "mimetype": "text/x-python",
   "name": "python",
   "nbconvert_exporter": "python",
   "pygments_lexer": "ipython3",
   "version": "3.5.2"
  }
 },
 "nbformat": 4,
 "nbformat_minor": 2
}
